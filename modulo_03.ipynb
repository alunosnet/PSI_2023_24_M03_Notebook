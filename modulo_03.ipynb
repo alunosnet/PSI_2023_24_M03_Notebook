{
 "cells": [
  {
   "cell_type": "markdown",
   "metadata": {},
   "source": [
    "# Módulo 03 #"
   ]
  },
  {
   "cell_type": "markdown",
   "metadata": {},
   "source": [
    "### Programação Estruturada ###"
   ]
  },
  {
   "cell_type": "markdown",
   "metadata": {},
   "source": [
    "### 1. Introdução às Funções"
   ]
  },
  {
   "cell_type": "markdown",
   "metadata": {},
   "source": [
    "O que são funções - uma função é um bloco de código que só é executado quando chamado."
   ]
  },
  {
   "cell_type": "code",
   "execution_count": null,
   "metadata": {
    "dotnet_interactive": {
     "language": "csharp"
    },
    "polyglot_notebook": {
     "kernelName": "csharp"
    }
   },
   "outputs": [],
   "source": [
    "print(\"Olá\")\n",
    "\n",
    "#definir a função\n",
    "def MinhaFuncao():\n",
    "    print(\"World\")\n",
    "\n",
    "print(\"Mundo\")"
   ]
  },
  {
   "cell_type": "markdown",
   "metadata": {},
   "source": [
    "O código da função não é executado porque nunca foi chamado."
   ]
  },
  {
   "cell_type": "code",
   "execution_count": null,
   "metadata": {},
   "outputs": [],
   "source": [
    "print(\"Olá\")\n",
    "\n",
    "#definir a função\n",
    "def MinhaFuncao():\n",
    "    print(\"Hello World\")\n",
    "\n",
    "print(\"Mundo\")\n",
    "#chamar a função\n",
    "MinhaFuncao()"
   ]
  },
  {
   "cell_type": "markdown",
   "metadata": {},
   "source": [
    "### Execução do código passo a passo"
   ]
  },
  {
   "cell_type": "markdown",
   "metadata": {},
   "source": [
    "Quando a função é chamada a execução do código **salta** para dentro da função até que todo o código da função é executado, de seguida a execução continua na linha seguinte onde a chamada da função tinha sido efetuada."
   ]
  },
  {
   "cell_type": "code",
   "execution_count": 2,
   "metadata": {},
   "outputs": [
    {
     "name": "stdout",
     "output_type": "stream",
     "text": [
      "Antes da função\n",
      "Dentro da função\n",
      "Depois da função\n"
     ]
    }
   ],
   "source": [
    "print(\"Antes da função\")\n",
    "\n",
    "def FuncaoA():\n",
    "    print(\"Dentro da função\")\n",
    "\n",
    "#chama a função\n",
    "FuncaoA()\n",
    "\n",
    "print(\"Depois da função\")"
   ]
  },
  {
   "cell_type": "markdown",
   "metadata": {},
   "source": [
    "Enquanto o código da função não terminar de ser executado o resto do programa fica à espera."
   ]
  },
  {
   "cell_type": "markdown",
   "metadata": {},
   "source": [
    "### Porquê utilizar funções?"
   ]
  },
  {
   "cell_type": "markdown",
   "metadata": {},
   "source": [
    "1. Reutilizar código: evitar repetir código\n",
    "2. Organização: criar blocos de código facilita a sua leitura e compreensão\n",
    "3. Abstração: funções fazem o que têm de fazer e não temos de saber os detalhes todos\n",
    "3. Manutenção: se é necessário alterar alguma coisa, podemos simplesmente alterar o código de uma função sem ter de alterar o resto do código"
   ]
  },
  {
   "cell_type": "markdown",
   "metadata": {},
   "source": [
    "### 2. Definindo e chamando funções"
   ]
  },
  {
   "cell_type": "markdown",
   "metadata": {},
   "source": [
    "Para definir uma função utilizamos a palavra reservada ***def*** seguida do nome da função e :"
   ]
  },
  {
   "cell_type": "markdown",
   "metadata": {},
   "source": [
    "Por exemplo:\n",
    "def MostrarMensagem():"
   ]
  },
  {
   "cell_type": "markdown",
   "metadata": {},
   "source": [
    "O nome das funções seguem as mesmas regras que o nome das variáveis: não podem começar por um número e não podem ter espaços em branco. Cuidado com as palavras reservadas ou nomes de funções repetidos.\n",
    "O nome da função inclui sempre () - parentesis"
   ]
  },
  {
   "cell_type": "code",
   "execution_count": null,
   "metadata": {},
   "outputs": [],
   "source": [
    "def SomaDoisNumeros():\n",
    "    x = 10\n",
    "    y = 20\n",
    "    resultado = x + y\n",
    "    print(f\"A soma é {resultado}\")"
   ]
  },
  {
   "cell_type": "markdown",
   "metadata": {},
   "source": [
    "Para ***executar*** a função utilizamos o nome seguido dos parentesis:"
   ]
  },
  {
   "cell_type": "code",
   "execution_count": null,
   "metadata": {},
   "outputs": [],
   "source": [
    "SomaDoisNumeros()"
   ]
  },
  {
   "cell_type": "markdown",
   "metadata": {},
   "source": [
    "Os () - parentesis - indica que a função deve ser executada, sem os parentesis estamos a referir o objeto da função sem que esta seja executada, ou seja, é só uma referência para a função."
   ]
  },
  {
   "cell_type": "code",
   "execution_count": null,
   "metadata": {},
   "outputs": [],
   "source": [
    "SomaDoisNumeros"
   ]
  },
  {
   "cell_type": "markdown",
   "metadata": {},
   "source": [
    "Para ser possível executar uma função esta tem de ser definida primeiro, se o computador ainda não encontrou a definição da função esta não pode ser chamada"
   ]
  },
  {
   "cell_type": "code",
   "execution_count": null,
   "metadata": {},
   "outputs": [],
   "source": [
    "funcaoA()   #erro porque a função ainda não foi definida\n",
    "\n",
    "def funcaoA():\n",
    "    print(\"Dentro da função A\")"
   ]
  },
  {
   "cell_type": "markdown",
   "metadata": {},
   "source": [
    "### 3. Parâmetros e argumentos"
   ]
  },
  {
   "cell_type": "markdown",
   "metadata": {},
   "source": [
    "A função ***SomaDoisNumeros()*** que definimos anteriormente não é muito útil. Porquê?"
   ]
  },
  {
   "cell_type": "markdown",
   "metadata": {},
   "source": [
    "Para ser mais útil ela devia permitir somar quaisquer dois números e não somente 10 com o 20."
   ]
  },
  {
   "cell_type": "markdown",
   "metadata": {},
   "source": [
    "Para tornar a função mais útil vamos definir dois parâmetros para podermos ***\"dar\"*** à função os números que pretendemos somar."
   ]
  },
  {
   "cell_type": "code",
   "execution_count": null,
   "metadata": {},
   "outputs": [],
   "source": [
    "\"\"\"Função que soma dois números e mostra o resultado\n",
    "\n",
    "Keyword arguments:\n",
    "argument -- os dois números a somar\n",
    "Return: nada\n",
    "\"\"\"\n",
    "\n",
    "def SomaDoisNumeros(x,y):\n",
    "    #os valores a somar não estão definidos dentro da função\n",
    "    resultado = x + y\n",
    "    print(f\"A soma é {resultado}\")"
   ]
  },
  {
   "cell_type": "markdown",
   "metadata": {},
   "source": [
    "Esta versão da função é diferente da anterior uma vez que ela ***não sabe*** quais são os valores que vai somar. Agora quando chamamos a função temos de passar os argumentos, ou seja, os valores para os parâmetros definidos."
   ]
  },
  {
   "cell_type": "code",
   "execution_count": null,
   "metadata": {},
   "outputs": [],
   "source": [
    "SomaDoisNumeros(10,20)"
   ]
  },
  {
   "cell_type": "code",
   "execution_count": null,
   "metadata": {},
   "outputs": [],
   "source": [
    "SomaDoisNumeros(5,12)"
   ]
  },
  {
   "cell_type": "markdown",
   "metadata": {},
   "source": [
    "Agora a função é muito mais útil porque permite somar quaisquer dois números."
   ]
  },
  {
   "cell_type": "markdown",
   "metadata": {},
   "source": [
    "Os **parâmetros** são as variáveis que ***só vão existir dentro da função*** e cujos valores são definidos no momento em que a função é chamada."
   ]
  },
  {
   "cell_type": "markdown",
   "metadata": {},
   "source": [
    "Os **argumentos** são os valores que atribuimos aos parâmetros no momento da execução da função."
   ]
  },
  {
   "cell_type": "code",
   "execution_count": null,
   "metadata": {},
   "outputs": [],
   "source": [
    "def MostraMensagem(mensagem):\n",
    "    print(mensagem)\n",
    "\n",
    "MostraMensagem(\"Olá mundo\")\n",
    "# esta linha dá erro porque a variável mensagem é um parâmetro da função MostraMensagem\n",
    "# e só existe dentro da função\n",
    "print(mensagem) "
   ]
  },
  {
   "cell_type": "markdown",
   "metadata": {},
   "source": [
    "Este conceito é MUITO IMPORTANTE: todos os parâmetros de uma função, bem como as variáveis que são definidas dentro de uma função, têm uma utilização (scope) limitado ao corpo da função. Isto significa que estas variáveis são criadas quando a função é chamada e são destruídas quando a execução da função termina."
   ]
  },
  {
   "cell_type": "markdown",
   "metadata": {},
   "source": [
    "Considerando o seguinte código:"
   ]
  },
  {
   "cell_type": "code",
   "execution_count": null,
   "metadata": {},
   "outputs": [],
   "source": [
    "def SubtraiDoisValores(x,y):\n",
    "    resultado = x - y\n",
    "    print(resultado)\n",
    "\n",
    "SubtraiDoisValores(10,5)\n"
   ]
  },
  {
   "cell_type": "markdown",
   "metadata": {},
   "source": [
    "A função **SubtraiDoisValores** tem dois parâmetros: ***x*** e ***y*** e uma variável local: ***resultado***"
   ]
  },
  {
   "cell_type": "markdown",
   "metadata": {},
   "source": [
    "Qualquer um destes parâmetros e/ou variáveis estão limitados ao corpo da função. Isto quer dizer que NÃO EXISTEM FORA DA FUNÇÃO."
   ]
  },
  {
   "cell_type": "code",
   "execution_count": null,
   "metadata": {},
   "outputs": [],
   "source": [
    "def SubtraiDoisValores(x,y):\n",
    "    resultado = x - y\n",
    "    print(resultado)\n",
    "\n",
    "SubtraiDoisValores(10,5)\n",
    "# estas linhas dão erros porque as variáveis\n",
    "# x,y e resultado só existem dentro da função SubtraiDoisValores\n",
    "# todas elas são locais\n",
    "print(x)\n",
    "print(y)\n",
    "print(resultado)"
   ]
  },
  {
   "cell_type": "markdown",
   "metadata": {},
   "source": [
    "A única diferença entre a variável resultado e as variáveis x e y (que são parâmetros) é que estes últimos têm um valor atribuido quando a função é chamada."
   ]
  },
  {
   "cell_type": "markdown",
   "metadata": {},
   "source": [
    "Os argumentos podem ser valores constantes ou variáveis."
   ]
  },
  {
   "cell_type": "code",
   "execution_count": null,
   "metadata": {},
   "outputs": [],
   "source": [
    "def SubtraiDoisValores(x,y):\n",
    "    resultado = x - y\n",
    "    print(resultado)\n",
    "\n",
    "a = 10\n",
    "b = 5\n",
    "SubtraiDoisValores(a,b)"
   ]
  },
  {
   "cell_type": "markdown",
   "metadata": {},
   "source": [
    "Assim podemos colocar a questão: o que acontece à variável que é utilizada num argumento se o valor do parâmetro for alterado dentro da função?"
   ]
  },
  {
   "cell_type": "code",
   "execution_count": null,
   "metadata": {},
   "outputs": [],
   "source": [
    "def SubtraiDoisValores(x,y):\n",
    "    resultado = x - y\n",
    "    print(resultado)\n",
    "    x = 0\n",
    "    y = 0\n",
    "\n",
    "a = 10\n",
    "b = 5\n",
    "SubtraiDoisValores(a,b)\n",
    "print(a,b)"
   ]
  },
  {
   "cell_type": "markdown",
   "metadata": {},
   "source": [
    "E a resposta é: NADA."
   ]
  },
  {
   "cell_type": "markdown",
   "metadata": {},
   "source": [
    "A razão deve-se ao facto de em Python existirem ***tipos de dados imutáveis***, como por exemplo: inteiros, strings e outros. Isto quer dizer que sempre que atribuimos um valor novo a uma destes variáveis é criada uma variável nova com o novo valor. Assim, no exemplo, a variável **a** continua com o valor 10 e ao atribuir 0 ao parâmetro **x** na realidade é criada uma nova variável **x** e não é alterado o valor original do **a**"
   ]
  },
  {
   "cell_type": "markdown",
   "metadata": {},
   "source": [
    "Para demonstrar este conceito podemos utilizar a função ***id()*** que mostra o endereço de memória de uma variável. Quando alteramos o valor da variável o endereço muda porque é criada uma variável nova."
   ]
  },
  {
   "cell_type": "code",
   "execution_count": null,
   "metadata": {},
   "outputs": [],
   "source": [
    "x = 10\n",
    "print(id(x))\n",
    "print(id(x))\n",
    "x=15\n",
    "print(id(x))    "
   ]
  },
  {
   "cell_type": "markdown",
   "metadata": {},
   "source": [
    "Mas e se pretendermos passar um valor que é calculado dentro da função para o resto do programa uma solução passa por fazer com que a função devolva um valor."
   ]
  },
  {
   "cell_type": "code",
   "execution_count": null,
   "metadata": {},
   "outputs": [],
   "source": [
    "def Troco(pagar,dinheiro):\n",
    "    dinheiro = dinheiro-pagar #esta linha não altera o valor da variável carteira\n",
    "    print(f\"Pagou {pagar} e ficou com {dinheiro}\")\n",
    "\n",
    "carteira =100\n",
    "Troco(50,carteira)\n",
    "print(f\"Tem na carteira {carteira}\")\n"
   ]
  },
  {
   "cell_type": "code",
   "execution_count": null,
   "metadata": {},
   "outputs": [],
   "source": [
    "def Troco(pagar,dinheiro):\n",
    "    dinheiro = dinheiro - pagar\n",
    "    print(f\"Pagou {pagar} e ficou com {dinheiro}\")\n",
    "    #vamos devolver o valor\n",
    "    return dinheiro\n",
    "\n",
    "carteira =100\n",
    "#Vamos chamar a função e guardar o valor que retorna\n",
    "carteira=Troco(50,carteira)\n",
    "print(f\"Tem na carteira {carteira}\")"
   ]
  },
  {
   "cell_type": "markdown",
   "metadata": {},
   "source": [
    "A instrução ***return*** também permite terminar a execução do código da função."
   ]
  },
  {
   "cell_type": "code",
   "execution_count": null,
   "metadata": {},
   "outputs": [],
   "source": [
    "def Troco(pagar,dinheiro):\n",
    "    if dinheiro==0:\n",
    "        print(\"Não tem dinheiro para pagar\")\n",
    "        return\n",
    "    dinheiro = dinheiro - pagar\n",
    "    print(f\"Pagou {pagar} e ficou com {dinheiro}\")\n",
    "    return dinheiro\n",
    "\n",
    "carteira = 100\n",
    "#Vamos chamar a função sem guardar o valor que retorna\n",
    "Troco(50,carteira)\n",
    "Troco(50,0)"
   ]
  },
  {
   "cell_type": "markdown",
   "metadata": {},
   "source": [
    "Neste exemplo a função é executada sem guardar o valor de retorno."
   ]
  },
  {
   "cell_type": "markdown",
   "metadata": {},
   "source": [
    "***Valores padrão para os parâmetros***"
   ]
  },
  {
   "cell_type": "markdown",
   "metadata": {},
   "source": [
    "É possível definir um valor padrão para um parâmetro, esse valor só será utilizado caso a função seja chamada sem um argumento para esse parâmetro."
   ]
  },
  {
   "cell_type": "code",
   "execution_count": null,
   "metadata": {},
   "outputs": [],
   "source": [
    "def Saudacao(texto=\"mundo\"):\n",
    "    print(f\"Olá, {texto}\")\n",
    "\n",
    "Saudacao()  #função chamada sem argumentos por isso texto assume o valor padrão\n",
    "Saudacao(\"Joaquim\") #neste caso o valor padrão não é utilizado"
   ]
  },
  {
   "cell_type": "markdown",
   "metadata": {},
   "source": [
    "Neste exemplo o parâmetro texto tem um valor padrão que é utilizado da primeira vez que a função é chamada porque nessa chamada não é fornecido nenhum valor, ou seja, a função foi chamada sem argumentos.\n",
    "Da segunda vez a função é chamada com o argumento \"Joaquim\" sendo esse o valor utilizado pelo parâmetro ao invés do valor padrão."
   ]
  },
  {
   "cell_type": "markdown",
   "metadata": {},
   "source": [
    "***NB:*** Quando definimos um valor padrão para um parâmetro temos de definir para todos os parâmetros que se encontram à sua direita, uma vez que o computador não conseguiria saber se o valor que era indicado era para o primeiro ou para o segundo parâmetro"
   ]
  },
  {
   "cell_type": "code",
   "execution_count": null,
   "metadata": {},
   "outputs": [],
   "source": [
    "# se definimos um valor padrão para o parâmetro x, este deve ser o parâmetro mais à direita da lista\n",
    "# ou temos de definir para todos os parâmetros que se encontram à sua direita\n",
    "def Soma(x=0,y):\n",
    "    resultado = x + y\n",
    "    print(resultado)"
   ]
  },
  {
   "cell_type": "markdown",
   "metadata": {},
   "source": [
    "***Nomear os parâmetros*** "
   ]
  },
  {
   "cell_type": "markdown",
   "metadata": {},
   "source": [
    "Ao chamar a função os argumentos são atribuídos aos parâmetros pela ordem que foram definidos, ou seja, da esquerda para a direita, no entanto podemos tornar o nosso código mais legivel se indicarmos o nome dos parâmetros e asim até podemos trocar a ordem dos parâmetros."
   ]
  },
  {
   "cell_type": "code",
   "execution_count": null,
   "metadata": {},
   "outputs": [],
   "source": [
    "def Subtrai(x,y):\n",
    "    resultado = x - y\n",
    "    print(resultado)\n",
    "\n",
    "Subtrai(10,5) #chamada da função com os valores 5 e 10 que são atribuidos aos parâmetros pela ordem\n",
    "Subtrai(y=5,x=10) #chamada da função nomeando os parâmetros e invertendo a ordem\n",
    "Subtrai(5,10)"
   ]
  },
  {
   "cell_type": "markdown",
   "metadata": {},
   "source": [
    "## Variáveis Globais"
   ]
  },
  {
   "cell_type": "markdown",
   "metadata": {},
   "source": [
    "Como já foi dito todos os parâmetros e variáveis declaradas dentro das funções são consideradas variáveis locais, ou seja, a sua utilização (scope) está limitada ao corpo da função."
   ]
  },
  {
   "cell_type": "code",
   "execution_count": null,
   "metadata": {},
   "outputs": [],
   "source": [
    "def MostraValor(numero):\n",
    "    print(numero)   # a variável numero só existe dentro da função\n",
    "\n",
    "MostraValor(10)\n",
    "print(f\"Valor do número: {numero}\") #esta linha dá erro porque a variável numero não está definida"
   ]
  },
  {
   "cell_type": "markdown",
   "metadata": {},
   "source": [
    "No entanto podemos definir **variáveis globais** que é possível utilizar em qualquer parte do nosso código, dentro e fora das funções."
   ]
  },
  {
   "cell_type": "code",
   "execution_count": null,
   "metadata": {},
   "outputs": [],
   "source": [
    "numero = 10 #esta variável é global assim é possível utilizá-la em qualquer parte do nosso código\n",
    "\n",
    "def SomaDoisNumeros():\n",
    "    print(numero) # não dá erro porque a variável é global\n",
    "\n",
    "MostraValor()\n",
    "print(numero)   #variável é global"
   ]
  },
  {
   "cell_type": "markdown",
   "metadata": {},
   "source": [
    "Assim podemos cair na tentação de definir as nossas variáveis todas sempre como globais e não temos o problema de ter de controlar se a variável existe ou não em alguma parte do nosso código, mas as variáveis globais podem criar outros problemas, como se pode ver pelo código que se segue:"
   ]
  },
  {
   "cell_type": "code",
   "execution_count": null,
   "metadata": {},
   "outputs": [],
   "source": [
    "resultado = 0 #esta variável é global assim é possível utiliza-la em qualquer parte do nosso código\n",
    "\n",
    "def SomaDoisNumeros(x,y):\n",
    "    resultado = x + y   #estamos a utilizar a variável global ou a criar uma nova?\n",
    "    print(resultado) # não dá erro porque a variável é global\n",
    "\n",
    "MostraValor()\n",
    "print(resultado)   #variável é global"
   ]
  },
  {
   "cell_type": "markdown",
   "metadata": {},
   "source": [
    "Na realidade o código apresentado cria uma variável local com o mesmo nome da variável global, se o que pretendemos é mesmo utilizar a variável global temos de alterar o código:"
   ]
  },
  {
   "cell_type": "code",
   "execution_count": null,
   "metadata": {},
   "outputs": [],
   "source": [
    "soma = 0 #esta variável é global assim é possível utiliza-la em qualquer parte do nosso código\n",
    "\n",
    "def SomaDoisNumeros(x,y):\n",
    "    global soma # assim indicamos que a variável soma que vamos utilizar dentro da função é a variável global\n",
    "    soma = x + y   #estamos a utilizar a variável global\n",
    "    print(soma) # não dá erro porque a variável é global\n",
    "\n",
    "SomaDoisNumeros(5,10)\n",
    "print(soma)   #variável é global"
   ]
  },
  {
   "cell_type": "markdown",
   "metadata": {},
   "source": [
    "A instrução **global** indica que a variável que vai utilizada é a variável global e assim não é criada uma variável local dentro da função."
   ]
  },
  {
   "cell_type": "markdown",
   "metadata": {},
   "source": [
    "## A utilização de variáveis globais deve ser limitada pois cria código mais complicado de perceber e de manter!"
   ]
  },
  {
   "cell_type": "markdown",
   "metadata": {},
   "source": [
    "# Call Stack"
   ]
  },
  {
   "cell_type": "markdown",
   "metadata": {},
   "source": [
    "Nesta parte vamos tentar perceber com maior detalhe como é que as funções são executadas pelo computador."
   ]
  },
  {
   "cell_type": "markdown",
   "metadata": {},
   "source": [
    "Como já vimos ao chamar uma função a execução salta para dentro da função e o código desta é executado. E este principio aplicação da mesma forma se dentro da função for chamada outra função."
   ]
  },
  {
   "cell_type": "code",
   "execution_count": null,
   "metadata": {},
   "outputs": [],
   "source": [
    "variavel_global=10\n",
    "\n",
    "def FuncaoA():\n",
    "    variavel_local_funcao_a=5\n",
    "    print(\"Esta é a função A\")\n",
    "\n",
    "def FuncaoB():\n",
    "    variavel_local_funcao_b=15\n",
    "    print(\"Inicio da função B\")\n",
    "    FuncaoA()\n",
    "    print(\"Fim da função B\")\n",
    "\n",
    "print(\"No programa principal\")\n",
    "FuncaoA()\n",
    "print(\"No programa principal\")\n",
    "FuncaoB()\n",
    "print(\"No programa principal\")\n"
   ]
  },
  {
   "cell_type": "markdown",
   "metadata": {},
   "source": [
    "Sempre que uma função é chamada é criado um espaço de memória denominado de frame. É nesta frame de memória que são criadas as variáveis locais. Ao concluir a execução da função esta frame é apagada e toda a informação que tinha perde-se."
   ]
  },
  {
   "cell_type": "markdown",
   "metadata": {},
   "source": [
    "Cada frame é criada e gerida pelo computador como se de uma pilha (stack) de pratos de trata-se, em que o último prato colocado na pilha é sempre o primeiro a ser retirado, é por isso que, no código exemplo, ao chamar a FuncaoA dentro da FuncaoB estamo a colocar nessa pilha"
   ]
  },
  {
   "cell_type": "markdown",
   "metadata": {},
   "source": [
    "[Demonstração da call stack](https://github.com/alunosnet/PSI_2023_24_M03_Notebook/blob/main/M%C3%B3dulo%2003%20-%20Call%20stack.pdf)"
   ]
  },
  {
   "cell_type": "markdown",
   "metadata": {},
   "source": [
    "# Módulos"
   ]
  },
  {
   "cell_type": "markdown",
   "metadata": {},
   "source": [
    "Agora que já sabemos criar funções podemos criar os nossos próprios módulos/livrarias e importar para os nossos programas e assim maximizar a reutilização do código."
   ]
  }
 ],
 "metadata": {
  "kernelspec": {
   "display_name": "Python 3",
   "language": "python",
   "name": "python3"
  },
  "language_info": {
   "codemirror_mode": {
    "name": "ipython",
    "version": 3
   },
   "file_extension": ".py",
   "mimetype": "text/x-python",
   "name": "python",
   "nbconvert_exporter": "python",
   "pygments_lexer": "ipython3",
   "version": "3.10.11"
  },
  "polyglot_notebook": {
   "kernelInfo": {
    "defaultKernelName": "csharp",
    "items": [
     {
      "aliases": [],
      "name": "csharp"
     }
    ]
   }
  }
 },
 "nbformat": 4,
 "nbformat_minor": 2
}
