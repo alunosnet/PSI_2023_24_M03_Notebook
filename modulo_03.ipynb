{
 "cells": [
  {
   "cell_type": "markdown",
   "metadata": {},
   "source": [
    "# Módulo 03 #"
   ]
  },
  {
   "cell_type": "markdown",
   "metadata": {},
   "source": [
    "### Programação Estruturada ###"
   ]
  },
  {
   "cell_type": "markdown",
   "metadata": {},
   "source": [
    "### 1. Introdução às Funções"
   ]
  },
  {
   "cell_type": "markdown",
   "metadata": {},
   "source": [
    "O que são funções - uma função é um bloco de código que só é executado quando chamado."
   ]
  },
  {
   "cell_type": "code",
   "execution_count": null,
   "metadata": {
    "dotnet_interactive": {
     "language": "csharp"
    },
    "polyglot_notebook": {
     "kernelName": "csharp"
    }
   },
   "outputs": [],
   "source": [
    "print(\"Olá\")\n",
    "\n",
    "#definir a função\n",
    "def MinhaFuncao():\n",
    "    print(\"World\")\n",
    "\n",
    "print(\"Mundo\")"
   ]
  },
  {
   "cell_type": "markdown",
   "metadata": {},
   "source": [
    "O código da função não é executado porque nunca foi chamado."
   ]
  },
  {
   "cell_type": "code",
   "execution_count": null,
   "metadata": {},
   "outputs": [],
   "source": [
    "print(\"Olá\")\n",
    "\n",
    "#definir a função\n",
    "def MinhaFuncao():\n",
    "    print(\"Hello World\")\n",
    "\n",
    "print(\"Mundo\")\n",
    "#chamar a função\n",
    "MinhaFuncao()"
   ]
  },
  {
   "cell_type": "markdown",
   "metadata": {},
   "source": [
    "### Execução do código passo a passo"
   ]
  },
  {
   "cell_type": "markdown",
   "metadata": {},
   "source": [
    "Quando a função é chamada a execução do código **salta** para dentro da função até que todo o código da função é executado, de seguida a execução continua na linha seguinte onde a chamada da função tinha sido efetuada."
   ]
  },
  {
   "cell_type": "code",
   "execution_count": 2,
   "metadata": {},
   "outputs": [
    {
     "name": "stdout",
     "output_type": "stream",
     "text": [
      "Antes da função\n",
      "Dentro da função\n",
      "Depois da função\n"
     ]
    }
   ],
   "source": [
    "print(\"Antes da função\")\n",
    "\n",
    "def FuncaoA():\n",
    "    print(\"Dentro da função\")\n",
    "\n",
    "#chama a função\n",
    "FuncaoA()\n",
    "\n",
    "print(\"Depois da função\")"
   ]
  },
  {
   "cell_type": "markdown",
   "metadata": {},
   "source": [
    "Enquanto o código da função não terminar de ser executado o resto do programa fica à espera."
   ]
  },
  {
   "cell_type": "markdown",
   "metadata": {},
   "source": [
    "### Porquê utilizar funções?"
   ]
  },
  {
   "cell_type": "markdown",
   "metadata": {},
   "source": [
    "1. Reutilizar código: evitar repetir código\n",
    "2. Organização: criar blocos de código facilita a sua leitura e compreensão\n",
    "3. Abstração: funções fazem o que têm de fazer e não temos de saber os detalhes todos\n",
    "3. Manutenção: se é necessário alterar alguma coisa, podemos simplesmente alterar o código de uma função sem ter de alterar o resto do código"
   ]
  },
  {
   "cell_type": "markdown",
   "metadata": {},
   "source": [
    "### 2. Definindo e chamando funções"
   ]
  },
  {
   "cell_type": "markdown",
   "metadata": {},
   "source": [
    "Para definir uma função utilizamos a palavra reservada ***def*** seguida do nome da função e :"
   ]
  },
  {
   "cell_type": "markdown",
   "metadata": {},
   "source": [
    "Por exemplo:\n",
    "def MostrarMensagem():"
   ]
  },
  {
   "cell_type": "markdown",
   "metadata": {},
   "source": [
    "O nome das funções seguem as mesmas regras que o nome das variáveis: não podem começar por um número e não podem ter espaços em branco. Cuidado com as palavras reservadas ou nomes de funções repetidos.\n",
    "O nome da função inclui sempre () - parentesis"
   ]
  },
  {
   "cell_type": "code",
   "execution_count": null,
   "metadata": {},
   "outputs": [],
   "source": [
    "def SomaDoisNumeros():\n",
    "    x = 10\n",
    "    y = 20\n",
    "    resultado = x + y\n",
    "    print(f\"A soma é {resultado}\")"
   ]
  },
  {
   "cell_type": "markdown",
   "metadata": {},
   "source": [
    "Para ***executar*** a função utilizamos o nome seguido dos parentesis:"
   ]
  },
  {
   "cell_type": "code",
   "execution_count": null,
   "metadata": {},
   "outputs": [],
   "source": [
    "SomaDoisNumeros()"
   ]
  },
  {
   "cell_type": "markdown",
   "metadata": {},
   "source": [
    "Os () - parentesis - indica que a função deve ser executada, sem os parentesis estamos a referir o objeto da função sem que esta seja executada, ou seja, é só uma referência para a função."
   ]
  },
  {
   "cell_type": "code",
   "execution_count": null,
   "metadata": {},
   "outputs": [],
   "source": [
    "SomaDoisNumeros"
   ]
  },
  {
   "cell_type": "markdown",
   "metadata": {},
   "source": [
    "Para ser possível executar uma função esta tem de ser definida primeiro, se o computador ainda não encontrou a definição da função esta não pode ser chamada"
   ]
  },
  {
   "cell_type": "code",
   "execution_count": null,
   "metadata": {},
   "outputs": [],
   "source": [
    "funcaoA()   #erro porque a função ainda não foi definida\n",
    "\n",
    "def funcaoA():\n",
    "    print(\"Dentro da função A\")"
   ]
  },
  {
   "cell_type": "markdown",
   "metadata": {},
   "source": [
    "### 3. Parâmetros e argumentos"
   ]
  },
  {
   "cell_type": "markdown",
   "metadata": {},
   "source": [
    "A função ***SomaDoisNumeros()*** que definimos anteriormente não é muito útil. Porquê?"
   ]
  },
  {
   "cell_type": "markdown",
   "metadata": {},
   "source": [
    "Para ser mais útil ela devia permitir somar quaisquer dois números e não somente 10 com o 20."
   ]
  },
  {
   "cell_type": "markdown",
   "metadata": {},
   "source": [
    "Para tornar a função mais útil vamos definir dois parâmetros para podermos ***\"dar\"*** à função os números que pretendemos somar."
   ]
  },
  {
   "cell_type": "code",
   "execution_count": null,
   "metadata": {},
   "outputs": [],
   "source": [
    "\"\"\"Função que soma dois números e mostra o resultado\n",
    "\n",
    "Keyword arguments:\n",
    "argument -- os dois números a somar\n",
    "Return: nada\n",
    "\"\"\"\n",
    "\n",
    "def SomaDoisNumeros(x,y):\n",
    "    #os valores a somar não estão definidos dentro da função\n",
    "    resultado = x + y\n",
    "    print(f\"A soma é {resultado}\")"
   ]
  },
  {
   "cell_type": "markdown",
   "metadata": {},
   "source": [
    "Esta versão da função é diferente da anterior uma vez que ela ***não sabe*** quais são os valores que vai somar. Agora quando chamamos a função temos de passar os argumentos, ou seja, os valores para os parâmetros definidos."
   ]
  },
  {
   "cell_type": "code",
   "execution_count": null,
   "metadata": {},
   "outputs": [],
   "source": [
    "SomaDoisNumeros(10,20)"
   ]
  },
  {
   "cell_type": "code",
   "execution_count": null,
   "metadata": {},
   "outputs": [],
   "source": [
    "SomaDoisNumeros(5,12)"
   ]
  },
  {
   "cell_type": "markdown",
   "metadata": {},
   "source": [
    "Agora a função é muito mais útil porque permite somar quaisquer dois números."
   ]
  },
  {
   "cell_type": "markdown",
   "metadata": {},
   "source": [
    "Os **parâmetros** são as variáveis que ***só vão existir dentro da função*** e cujos valores são definidos no momento em que a função é chamada."
   ]
  },
  {
   "cell_type": "markdown",
   "metadata": {},
   "source": [
    "Os **argumentos** são os valores que atribuimos aos parâmetros no momento da execução da função."
   ]
  },
  {
   "cell_type": "code",
   "execution_count": null,
   "metadata": {},
   "outputs": [],
   "source": [
    "def MostraMensagem(mensagem):\n",
    "    print(mensagem)\n",
    "\n",
    "MostraMensagem(\"Olá mundo\")\n",
    "# esta linha dá erro porque a variável mensagem é um parâmetro da função MostraMensagem\n",
    "# e só existe dentro da função\n",
    "print(mensagem) "
   ]
  },
  {
   "cell_type": "markdown",
   "metadata": {},
   "source": [
    "Este conceito é MUITO IMPORTANTE: todos os parâmetros de uma função, bem como as variáveis que são definidas dentro de uma função, têm uma utilização (scope) limitado ao corpo da função. Isto significa que estas variáveis são criadas quando a função é chamada e são destruídas quando a execução da função termina."
   ]
  },
  {
   "cell_type": "markdown",
   "metadata": {},
   "source": [
    "Considerando o seguinte código:"
   ]
  },
  {
   "cell_type": "code",
   "execution_count": null,
   "metadata": {},
   "outputs": [],
   "source": [
    "def SubtraiDoisValores(x,y):\n",
    "    resultado = x - y\n",
    "    print(resultado)\n",
    "\n",
    "SubtraiDoisValores(10,5)\n"
   ]
  },
  {
   "cell_type": "markdown",
   "metadata": {},
   "source": [
    "A função **SubtraiDoisValores** tem dois parâmetros: ***x*** e ***y*** e uma variável local: ***resultado***"
   ]
  },
  {
   "cell_type": "markdown",
   "metadata": {},
   "source": [
    "Qualquer um destes parâmetros e/ou variáveis estão limitados ao corpo da função. Isto quer dizer que NÃO EXISTEM FORA DA FUNÇÃO."
   ]
  },
  {
   "cell_type": "code",
   "execution_count": null,
   "metadata": {},
   "outputs": [],
   "source": [
    "def SubtraiDoisValores(x,y):\n",
    "    resultado = x - y\n",
    "    print(resultado)\n",
    "\n",
    "SubtraiDoisValores(10,5)\n",
    "# estas linhas dão erros porque as variáveis\n",
    "# x,y e resultado só existem dentro da função SubtraiDoisValores\n",
    "# todas elas são locais\n",
    "print(x)\n",
    "print(y)\n",
    "print(resultado)"
   ]
  },
  {
   "cell_type": "markdown",
   "metadata": {},
   "source": [
    "A única diferença entre a variável resultado e as variáveis x e y (que são parâmetros) é que estes últimos têm um valor atribuido quando a função é chamada."
   ]
  },
  {
   "cell_type": "markdown",
   "metadata": {},
   "source": [
    "Os argumentos podem ser valores constantes ou variáveis."
   ]
  },
  {
   "cell_type": "code",
   "execution_count": null,
   "metadata": {},
   "outputs": [],
   "source": [
    "def SubtraiDoisValores(x,y):\n",
    "    resultado = x - y\n",
    "    print(resultado)\n",
    "\n",
    "a = 10\n",
    "b = 5\n",
    "SubtraiDoisValores(a,b)"
   ]
  },
  {
   "cell_type": "markdown",
   "metadata": {},
   "source": [
    "Assim podemos colocar a questão: o que acontece à variável que é utilizada num argumento se o valor do parâmetro for alterado dentro da função?"
   ]
  },
  {
   "cell_type": "code",
   "execution_count": null,
   "metadata": {},
   "outputs": [],
   "source": [
    "def SubtraiDoisValores(x,y):\n",
    "    resultado = x - y\n",
    "    print(resultado)\n",
    "    x = 0\n",
    "    y = 0\n",
    "\n",
    "a = 10\n",
    "b = 5\n",
    "SubtraiDoisValores(a,b)\n",
    "print(a,b)"
   ]
  },
  {
   "cell_type": "markdown",
   "metadata": {},
   "source": [
    "E a resposta é: NADA."
   ]
  },
  {
   "cell_type": "markdown",
   "metadata": {},
   "source": [
    "A razão deve-se ao facto de em Python existirem ***tipos de dados imutáveis***, como por exemplo: inteiros, strings e outros. Isto quer dizer que sempre que atribuimos um valor novo a uma destes variáveis é criada uma variável nova com o novo valor. Assim, no exemplo, a variável **a** continua com o valor 10 e ao atribuir 0 ao parâmetro **x** na realidade é criada uma nova variável **x** e não é alterado o valor original do **a**"
   ]
  },
  {
   "cell_type": "markdown",
   "metadata": {},
   "source": [
    "Para demonstrar este conceito podemos utilizar a função ***id()*** que mostra o endereço de memória de uma variável. Quando alteramos o valor da variável o endereço muda porque é criada uma variável nova."
   ]
  },
  {
   "cell_type": "code",
   "execution_count": null,
   "metadata": {},
   "outputs": [],
   "source": [
    "x = 10\n",
    "print(id(x))\n",
    "print(id(x))\n",
    "x=15\n",
    "print(id(x))    "
   ]
  },
  {
   "cell_type": "markdown",
   "metadata": {},
   "source": [
    "Mas e se pretendermos passar um valor que é calculado dentro da função para o resto do programa uma solução passa por fazer com que a função devolva um valor."
   ]
  },
  {
   "cell_type": "code",
   "execution_count": null,
   "metadata": {},
   "outputs": [],
   "source": [
    "def Troco(pagar,dinheiro):\n",
    "    dinheiro = dinheiro-pagar #esta linha não altera o valor da variável carteira\n",
    "    print(f\"Pagou {pagar} e ficou com {dinheiro}\")\n",
    "\n",
    "carteira =100\n",
    "Troco(50,carteira)\n",
    "print(f\"Tem na carteira {carteira}\")\n"
   ]
  },
  {
   "cell_type": "code",
   "execution_count": null,
   "metadata": {},
   "outputs": [],
   "source": [
    "def Troco(pagar,dinheiro):\n",
    "    dinheiro = dinheiro - pagar\n",
    "    print(f\"Pagou {pagar} e ficou com {dinheiro}\")\n",
    "    #vamos devolver o valor\n",
    "    return dinheiro\n",
    "\n",
    "carteira =100\n",
    "#Vamos chamar a função e guardar o valor que retorna\n",
    "carteira=Troco(50,carteira)\n",
    "print(f\"Tem na carteira {carteira}\")"
   ]
  },
  {
   "cell_type": "markdown",
   "metadata": {},
   "source": [
    "A instrução ***return*** também permite terminar a execução do código da função, à semelhança da instrução break dentro de um ciclo."
   ]
  },
  {
   "cell_type": "code",
   "execution_count": null,
   "metadata": {},
   "outputs": [],
   "source": [
    "def Troco(pagar,dinheiro):\n",
    "    if dinheiro==0:\n",
    "        print(\"Não tem dinheiro para pagar\")\n",
    "        return\n",
    "    dinheiro = dinheiro - pagar\n",
    "    print(f\"Pagou {pagar} e ficou com {dinheiro}\")\n",
    "    return dinheiro\n",
    "\n",
    "carteira = 100\n",
    "#Vamos chamar a função sem guardar o valor que retorna\n",
    "Troco(50,carteira)\n",
    "Troco(50,0)"
   ]
  },
  {
   "cell_type": "markdown",
   "metadata": {},
   "source": [
    "Neste exemplo a função é executada sem guardar o valor de retorno."
   ]
  },
  {
   "cell_type": "markdown",
   "metadata": {},
   "source": [
    "***Valores padrão para os parâmetros***"
   ]
  },
  {
   "cell_type": "markdown",
   "metadata": {},
   "source": [
    "É possível definir um valor padrão para um parâmetro, esse valor só será utilizado caso a função seja chamada sem um argumento para esse parâmetro."
   ]
  },
  {
   "cell_type": "code",
   "execution_count": null,
   "metadata": {},
   "outputs": [],
   "source": [
    "def Saudacao(texto=\"mundo\"):\n",
    "    print(f\"Olá, {texto}\")\n",
    "\n",
    "Saudacao()  #função chamada sem argumentos por isso texto assume o valor padrão\n",
    "Saudacao(\"Joaquim\") #neste caso o valor padrão não é utilizado"
   ]
  },
  {
   "cell_type": "markdown",
   "metadata": {},
   "source": [
    "Neste exemplo o parâmetro texto tem um valor padrão que é utilizado da primeira vez que a função é chamada porque nessa chamada não é fornecido nenhum valor, ou seja, a função foi chamada sem argumentos.\n",
    "Da segunda vez a função é chamada com o argumento \"Joaquim\" sendo esse o valor utilizado pelo parâmetro ao invés do valor padrão."
   ]
  },
  {
   "cell_type": "markdown",
   "metadata": {},
   "source": [
    "***NB:*** Quando definimos um valor padrão para um parâmetro temos de definir para todos os parâmetros que se encontram à sua direita, uma vez que o computador não conseguiria saber se o valor que era indicado era para o primeiro ou para o segundo parâmetro"
   ]
  },
  {
   "cell_type": "code",
   "execution_count": null,
   "metadata": {},
   "outputs": [],
   "source": [
    "# se definimos um valor padrão para o parâmetro x, este deve ser o parâmetro mais à direita da lista\n",
    "# ou temos de definir para todos os parâmetros que se encontram à sua direita\n",
    "def Soma(x=0,y):\n",
    "    resultado = x + y\n",
    "    print(resultado)"
   ]
  },
  {
   "cell_type": "markdown",
   "metadata": {},
   "source": [
    "***Nomear os parâmetros*** "
   ]
  },
  {
   "cell_type": "markdown",
   "metadata": {},
   "source": [
    "Ao chamar a função os argumentos são atribuídos aos parâmetros pela ordem que foram definidos, ou seja, da esquerda para a direita, no entanto podemos tornar o nosso código mais legivel se indicarmos o nome dos parâmetros e asim até podemos trocar a ordem dos parâmetros."
   ]
  },
  {
   "cell_type": "code",
   "execution_count": null,
   "metadata": {},
   "outputs": [],
   "source": [
    "def Subtrai(x,y):\n",
    "    resultado = x - y\n",
    "    print(resultado)\n",
    "\n",
    "Subtrai(10,5) #chamada da função com os valores 5 e 10 que são atribuidos aos parâmetros pela ordem\n",
    "Subtrai(y=5,x=10) #chamada da função nomeando os parâmetros e invertendo a ordem\n",
    "Subtrai(5,10)"
   ]
  },
  {
   "cell_type": "markdown",
   "metadata": {},
   "source": [
    "## Variáveis Globais"
   ]
  },
  {
   "cell_type": "markdown",
   "metadata": {},
   "source": [
    "Como já foi dito todos os parâmetros e variáveis declaradas dentro das funções são consideradas variáveis locais, ou seja, a sua utilização (scope) está limitada ao corpo da função."
   ]
  },
  {
   "cell_type": "code",
   "execution_count": null,
   "metadata": {},
   "outputs": [],
   "source": [
    "def MostraValor(numero):\n",
    "    print(numero)   # a variável numero só existe dentro da função\n",
    "\n",
    "MostraValor(10)\n",
    "print(f\"Valor do número: {numero}\") #esta linha dá erro porque a variável numero não está definida"
   ]
  },
  {
   "cell_type": "markdown",
   "metadata": {},
   "source": [
    "No entanto podemos definir **variáveis globais** que é possível utilizar em qualquer parte do nosso código, dentro e fora das funções."
   ]
  },
  {
   "cell_type": "code",
   "execution_count": null,
   "metadata": {},
   "outputs": [],
   "source": [
    "numero = 10 #esta variável é global assim é possível utilizá-la em qualquer parte do nosso código\n",
    "\n",
    "def SomaDoisNumeros():\n",
    "    print(numero) # não dá erro porque a variável é global\n",
    "\n",
    "MostraValor()\n",
    "print(numero)   #variável é global"
   ]
  },
  {
   "cell_type": "markdown",
   "metadata": {},
   "source": [
    "Assim podemos cair na tentação de definir as nossas variáveis todas sempre como globais e não temos o problema de ter de controlar se a variável existe ou não em alguma parte do nosso código, mas as variáveis globais podem criar outros problemas, como se pode ver pelo código que se segue:"
   ]
  },
  {
   "cell_type": "code",
   "execution_count": null,
   "metadata": {},
   "outputs": [],
   "source": [
    "resultado = 0 #esta variável é global assim é possível utiliza-la em qualquer parte do nosso código\n",
    "\n",
    "def SomaDoisNumeros(x,y):\n",
    "    resultado = x + y   #estamos a utilizar a variável global ou a criar uma nova?\n",
    "    print(resultado) # não dá erro porque a variável é global\n",
    "\n",
    "MostraValor()\n",
    "print(resultado)   #variável é global"
   ]
  },
  {
   "cell_type": "markdown",
   "metadata": {},
   "source": [
    "Na realidade o código apresentado cria uma variável local com o mesmo nome da variável global, se o que pretendemos é mesmo utilizar a variável global temos de alterar o código:"
   ]
  },
  {
   "cell_type": "code",
   "execution_count": null,
   "metadata": {},
   "outputs": [],
   "source": [
    "soma = 0 #esta variável é global assim é possível utiliza-la em qualquer parte do nosso código\n",
    "\n",
    "def SomaDoisNumeros(x,y):\n",
    "    global soma # assim indicamos que a variável soma que vamos utilizar dentro da função é a variável global\n",
    "    soma = x + y   #estamos a utilizar a variável global\n",
    "    print(soma) # não dá erro porque a variável é global\n",
    "\n",
    "SomaDoisNumeros(5,10)\n",
    "print(soma)   #variável é global"
   ]
  },
  {
   "cell_type": "markdown",
   "metadata": {},
   "source": [
    "A instrução **global** indica que a variável que vai utilizada é a variável global e assim não é criada uma variável local dentro da função."
   ]
  },
  {
   "cell_type": "markdown",
   "metadata": {},
   "source": [
    "### A utilização de variáveis globais deve ser limitada pois cria código mais complicado de perceber e de manter!"
   ]
  },
  {
   "cell_type": "markdown",
   "metadata": {},
   "source": [
    "# Call Stack"
   ]
  },
  {
   "cell_type": "markdown",
   "metadata": {},
   "source": [
    "Nesta parte vamos tentar perceber, com maior detalhe, como é que as funções são executadas pelo computador."
   ]
  },
  {
   "cell_type": "markdown",
   "metadata": {},
   "source": [
    "Como já vimos ao chamar uma função a execução salta para dentro da função e o código desta é executado. E este principio aplicação da mesma forma se dentro da função for chamada outra função."
   ]
  },
  {
   "cell_type": "code",
   "execution_count": null,
   "metadata": {},
   "outputs": [],
   "source": [
    "variavel_global=10\n",
    "\n",
    "def FuncaoA():\n",
    "    variavel_local_funcao_a=5\n",
    "    print(\"Esta é a função A\")\n",
    "\n",
    "def FuncaoB():\n",
    "    variavel_local_funcao_b=15\n",
    "    print(\"Inicio da função B\")\n",
    "    FuncaoA()\n",
    "    print(\"Fim da função B\")\n",
    "\n",
    "print(\"No programa principal\")\n",
    "FuncaoA()\n",
    "print(\"No programa principal\")\n",
    "FuncaoB()\n",
    "print(\"No programa principal\")\n"
   ]
  },
  {
   "cell_type": "markdown",
   "metadata": {},
   "source": [
    "Sempre que uma função é chamada é criado um espaço de memória denominado de frame. É nesta frame de memória que são criadas as variáveis locais. Ao concluir a execução da função esta frame é apagada e toda a informação que tinha perde-se."
   ]
  },
  {
   "cell_type": "markdown",
   "metadata": {},
   "source": [
    "Cada frame é criada e gerida pelo computador como se de uma pilha (stack) de pratos de trata-se, em que o último prato colocado na pilha é sempre o primeiro a ser retirado, é por isso que, no código exemplo, ao chamar a FuncaoA dentro da FuncaoB estamo a colocar nessa pilha"
   ]
  },
  {
   "cell_type": "markdown",
   "metadata": {},
   "source": [
    "[Demonstração da call stack](https://github.com/alunosnet/PSI_2023_24_M03_Notebook/blob/main/M%C3%B3dulo%2003%20-%20Call%20stack.pdf)"
   ]
  },
  {
   "cell_type": "markdown",
   "metadata": {},
   "source": [
    "# Módulos"
   ]
  },
  {
   "cell_type": "markdown",
   "metadata": {},
   "source": [
    "Agora que já sabemos criar funções podemos criar os nossos próprios módulos de funções e importar para os nossos programas e assim maximizar a reutilização do código."
   ]
  },
  {
   "cell_type": "markdown",
   "metadata": {},
   "source": [
    "Vamos criar um módulo com duas funções"
   ]
  },
  {
   "cell_type": "code",
   "execution_count": 5,
   "metadata": {},
   "outputs": [
    {
     "name": "stdout",
     "output_type": "stream",
     "text": [
      "Writing meu_modulo.py\n"
     ]
    }
   ],
   "source": [
    "%%writefile meu_modulo.py\n",
    "\n",
    "def saudacao(nome):\n",
    "    return f\"Olá, {nome}!\"\n",
    "\n",
    "def soma(a, b):\n",
    "    return a + b\n"
   ]
  },
  {
   "cell_type": "markdown",
   "metadata": {},
   "source": [
    "Agora para utilizar este módulo temos de o importar"
   ]
  },
  {
   "cell_type": "code",
   "execution_count": 6,
   "metadata": {},
   "outputs": [
    {
     "name": "stdout",
     "output_type": "stream",
     "text": [
      "15\n",
      "Olá, Maria!\n"
     ]
    }
   ],
   "source": [
    "import meu_modulo #importação do módulo\n",
    "\n",
    "resultado = meu_modulo.soma(10, 5)\n",
    "print(resultado)  # Saída: 15\n",
    "\n",
    "mensagem = meu_modulo.saudacao(\"Maria\")\n",
    "print(mensagem)  # Saída: Olá, Maria!\n"
   ]
  },
  {
   "cell_type": "markdown",
   "metadata": {},
   "source": [
    "## Instalar módulos antes de importar"
   ]
  },
  {
   "cell_type": "markdown",
   "metadata": {},
   "source": [
    "Alguns módulos são disponibilizados em repositórios e têm de ser instalados no nosso computador antes de serem importados para o programa."
   ]
  },
  {
   "cell_type": "markdown",
   "metadata": {},
   "source": [
    "Para instalar módulos utiliza-se a ferramente *pip*"
   ]
  },
  {
   "cell_type": "markdown",
   "metadata": {},
   "source": [
    "Por exemplo, um módulo que pode ser útil é o termcolor que permite a utilização de texto com cores no terminal."
   ]
  },
  {
   "cell_type": "markdown",
   "metadata": {},
   "source": [
    "Para instalar o módulo no computador executamos o comando: **pip install termcolor**"
   ]
  },
  {
   "cell_type": "markdown",
   "metadata": {},
   "source": [
    "Depois já podemos importar:"
   ]
  },
  {
   "cell_type": "code",
   "execution_count": 7,
   "metadata": {},
   "outputs": [
    {
     "name": "stdout",
     "output_type": "stream",
     "text": [
      "\u001b[32mOlá, mundo!\u001b[0m\n",
      "\u001b[31mOlá, mundo!\u001b[0m\n"
     ]
    }
   ],
   "source": [
    "from termcolor import colored\n",
    "\n",
    "def imprimir_texto_cor(texto, cor):\n",
    "    print(colored(texto, cor))\n",
    "\n",
    "imprimir_texto_cor(\"Olá, mundo!\", \"green\")\n",
    "imprimir_texto_cor(\"Olá, mundo!\", \"red\")"
   ]
  },
  {
   "cell_type": "markdown",
   "metadata": {},
   "source": [
    "# Recursividade"
   ]
  },
  {
   "cell_type": "markdown",
   "metadata": {},
   "source": [
    "Uma função recursiva é aquela que se chama a si mesma para resolver uma versão menor do problema. Na prática é um ciclo sem utilizar as instruções **for** ou **while**. Ao chamar a função dentro do seu próprio código estamos a promover a repetição da sua execução."
   ]
  },
  {
   "cell_type": "markdown",
   "metadata": {},
   "source": [
    "Um aspeto fundamental do código de uma função recursiva é a condição para parar de se chamar a si própria. É o caso base. Sem esta condição criamos um ciclo infinito de chamadas à função que resulta num erro de Stack Overflow, em que esgotamos o limite de chamadas máximas da stack de execução do programa."
   ]
  },
  {
   "cell_type": "markdown",
   "metadata": {},
   "source": [
    "**Exemplo:** Uma função que calcula a exponenciação. Os parâmetros são o valor da base e do expoente. Como condição de paragem podemos definir o caso base em que o expoente é 1 que, como de certo sabe, resulta no valor da base, ou seja, qualquer valor elevado a 1 dá o próprio valor.\n"
   ]
  },
  {
   "cell_type": "markdown",
   "metadata": {},
   "source": [
    "Assim para resolver 2^4 podemos dizer que é igual a 2 * 2^3"
   ]
  },
  {
   "cell_type": "markdown",
   "metadata": {},
   "source": [
    " Por sua vez 2^3 é 2 * 2^2 e assim sucessivamente. "
   ]
  },
  {
   "cell_type": "code",
   "execution_count": 4,
   "metadata": {},
   "outputs": [
    {
     "name": "stdout",
     "output_type": "stream",
     "text": [
      "16\n"
     ]
    }
   ],
   "source": [
    "def Expoente(base,expoente):\n",
    "    #Condição de paragem\n",
    "    if expoente==1:\n",
    "        return base\n",
    "    else:\n",
    "        #recursividade: a função chama-se a si própria\n",
    "        return base*Expoente(base,expoente-1)\n",
    "\n",
    "print(Expoente(2,4))"
   ]
  },
  {
   "cell_type": "markdown",
   "metadata": {},
   "source": [
    "# Funções com yield"
   ]
  },
  {
   "cell_type": "markdown",
   "metadata": {},
   "source": [
    "As funções são blocos de código em que as variáveis sáo destruídas quando a execução da função termina, por isso não guardam o estado entre chamadas da mesma função."
   ]
  },
  {
   "cell_type": "markdown",
   "metadata": {},
   "source": [
    "No entanto podemos colocar a execução de uma função num estado de pausa, em que a execução é interrompida até que seja novamente chamada."
   ]
  },
  {
   "cell_type": "code",
   "execution_count": 8,
   "metadata": {},
   "outputs": [
    {
     "name": "stdout",
     "output_type": "stream",
     "text": [
      "0\n",
      "2\n",
      "4\n",
      "6\n",
      "8\n",
      "10\n"
     ]
    }
   ],
   "source": [
    "def gerar_pares(limite):\n",
    "    n = 0\n",
    "    while n <= limite:\n",
    "        yield n     # interrompe a execução e devolve o valor de n\n",
    "        #na próxima vez que a função é chamada continua na linha seguinte\n",
    "        #à instrução yield\n",
    "        n += 2\n",
    "\n",
    "# Usando o gerador\n",
    "for numero_par in gerar_pares(10):\n",
    "    print(numero_par)\n"
   ]
  }
 ],
 "metadata": {
  "kernelspec": {
   "display_name": "Python 3",
   "language": "python",
   "name": "python3"
  },
  "language_info": {
   "codemirror_mode": {
    "name": "ipython",
    "version": 3
   },
   "file_extension": ".py",
   "mimetype": "text/x-python",
   "name": "python",
   "nbconvert_exporter": "python",
   "pygments_lexer": "ipython3",
   "version": "3.10.11"
  },
  "polyglot_notebook": {
   "kernelInfo": {
    "defaultKernelName": "csharp",
    "items": [
     {
      "aliases": [],
      "name": "csharp"
     }
    ]
   }
  }
 },
 "nbformat": 4,
 "nbformat_minor": 2
}
